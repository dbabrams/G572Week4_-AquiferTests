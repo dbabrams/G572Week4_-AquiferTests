{
  "nbformat": 4,
  "nbformat_minor": 0,
  "metadata": {
    "colab": {
      "name": "Prob Set 3 Key.ipynb",
      "provenance": [],
      "collapsed_sections": [],
      "toc_visible": true
    },
    "kernelspec": {
      "display_name": "Python 3",
      "language": "python",
      "name": "python3"
    },
    "language_info": {
      "codemirror_mode": {
        "name": "ipython",
        "version": 3
      },
      "file_extension": ".py",
      "mimetype": "text/x-python",
      "name": "python",
      "nbconvert_exporter": "python",
      "pygments_lexer": "ipython3",
      "version": "3.7.4"
    }
  },
  "cells": [
    {
      "cell_type": "markdown",
      "metadata": {
        "colab_type": "text",
        "id": "LiOsz_tmTw-4"
      },
      "source": [
        "# <center>Aquifer Test Analysis for Okawville #4"
      ]
    },
    {
      "cell_type": "markdown",
      "metadata": {
        "colab_type": "text",
        "id": "jBS9t-vUTw-5"
      },
      "source": [
        "## <center>Part I: Background Information About Okawville\n",
        "\n",
        "In late 1980s the Village of Okawville, Illinois experienced a large increase in the concentrations of chloride, hardness, and sulfate in supply well `#4`, one of two principal supply wells for the community. A subsequent investigation found that the aquifer was contaminated by brines spilled at the surface from oil drilling operations.  A resistivity survey was conducted by the Illinois State Geological Survey to determine the extent of the brine contamination.  The village wells are constructed in an alluvial sand aquifer that occupies the flood plain of modern Kaskaskia River valley. The existing wells are 500 feet from the valley wall which acts as a flow barrier.\n",
        "\n"
      ]
    },
    {
      "cell_type": "markdown",
      "metadata": {
        "colab_type": "text",
        "id": "4XdNT3JoTw-5"
      },
      "source": [
        "In search of uncontaminated water, the Village drilled a test well two miles to the west at a new well site. The Illinois State Water Survey then conducted an aquifer test to determine aquifer properties. The results of this analysis are shown below."
      ]
    },
    {
      "cell_type": "markdown",
      "metadata": {
        "colab_type": "text",
        "id": "khi_5CkdTw_A"
      },
      "source": [
        "## <center>Part I: Import Python Packages"
      ]
    },
    {
      "cell_type": "markdown",
      "metadata": {
        "colab_type": "text",
        "id": "XyV1Wf2CTw_B"
      },
      "source": [
        "This analysis was conducted using Python the following Python packages. Details of the packages are commented below."
      ]
    },
    {
      "cell_type": "code",
      "metadata": {
        "colab_type": "code",
        "id": "7nPAougfTw_C",
        "colab": {}
      },
      "source": [
        "import pandas as pd\n",
        "import matplotlib.pyplot as plt\n",
        "import numpy as np\n",
        "import scipy.optimize as spo\n",
        "import scipy.special as sps\n",
        "%matplotlib inline"
      ],
      "execution_count": 0,
      "outputs": []
    },
    {
      "cell_type": "markdown",
      "metadata": {
        "colab_type": "text",
        "id": "b9u5wd_uTw_E"
      },
      "source": [
        "## <center>Part II: Import and plot the data"
      ]
    },
    {
      "cell_type": "code",
      "metadata": {
        "colab_type": "code",
        "id": "U_zp1SD4Tw_F",
        "scrolled": true,
        "colab": {
          "base_uri": "https://localhost:8080/",
          "height": 724
        },
        "outputId": "f380d507-c295-410e-967e-488e82b62a8a"
      },
      "source": [
        "df_dd = pd.read_excel('https://github.com/dbabrams/G572Week4_-AquiferTests/blob/master/Okawville_MW_AquiferTest.xlsx?raw=true', index_col=0)\n",
        "print(df_dd)\n",
        "plt.semilogx(df_dd)\n",
        "plt.xlabel('Minutes')\n",
        "plt.ylabel('Drawdown (ft)')\n",
        "plt.title('Okawville')\n",
        "plt.show()"
      ],
      "execution_count": 7,
      "outputs": [
        {
          "output_type": "stream",
          "text": [
            "      dtw\n",
            "0    0.00\n",
            "1    0.02\n",
            "2    0.04\n",
            "3    0.07\n",
            "4    0.08\n",
            "5    0.10\n",
            "6    0.13\n",
            "7    0.16\n",
            "8    0.19\n",
            "9    0.22\n",
            "10   0.24\n",
            "12   0.27\n",
            "15   0.30\n",
            "20   0.37\n",
            "25   0.43\n",
            "30   0.46\n",
            "40   0.51\n",
            "50   0.56\n",
            "60   0.59\n",
            "70   0.61\n",
            "80   0.62\n",
            "90   0.63\n",
            "100  0.64\n",
            "120  0.65\n"
          ],
          "name": "stdout"
        },
        {
          "output_type": "display_data",
          "data": {
            "image/png": "[encoded data removed]",
            "text/plain": [
              "<Figure size 432x288 with 1 Axes>"
            ]
          },
          "metadata": {
            "tags": []
          }
        }
      ]
    },
    {
      "cell_type": "markdown",
      "metadata": {
        "colab_type": "text",
        "id": "8b_6NCOrTw_H"
      },
      "source": [
        "## <center>Part III: Jacob Straight Line Method\n",
        "    \n",
        "Use the Jacob straight-line method to determine the transmissivity (T) and storativity (S) from the Okawville Aquifer Test.  The test well was pumped at a rate of 5.35 $ft^3/min$ (Q) and the drawdown was recorded in an observation well 30.0 feet (r) away from the test well.  In the Jacob equations below, $t_0$ is the x-intercept of the best-fit straight line through the data and $\\Delta(h_0-h)$ is the drawdown over one log cycle of time on the best-fit line (use Python to calculate both $t_0$ and $\\Delta(h_0-h)$).\n",
        "\n",
        "![Jacob](https://share.cocalc.com/share/84a5dae3-8e5c-4c85-bbd4-1d36447235d6/assignments/Prob%20Set%203/JacobStraightLine.PNG)"
      ]
    },
    {
      "cell_type": "code",
      "metadata": {
        "colab_type": "code",
        "id": "ar6bwGd8Tw_I",
        "colab": {
          "base_uri": "https://localhost:8080/",
          "height": 299
        },
        "outputId": "faad284f-5302-4d54-d1f8-3952a38edc24"
      },
      "source": [
        "dd = df_dd['dtw'][5:-5]\n",
        "\n",
        "def log_line(x, a, b):\n",
        "    return a + b*np.log10(x)\n",
        "\n",
        "# curve_fit(user defined equation, x variable, y variable, convergence criteria)\n",
        "# popt is an array with the first value being the y-intersect and the second value being the slope of the line\n",
        "# pcov is the covariance of popt. We will not be using that.\n",
        "popt, pcov = spo.curve_fit(log_line, dd.index, dd, p0=(1, 1))\n",
        "\n",
        "xx = [value for value in range(1,151)]\n",
        "yy = log_line(xx, popt[0], popt[1])\n",
        "\n",
        "plt.semilogx(dd,'o', xx, yy)\n",
        "plt.ylim([0,1])\n",
        "plt.xlabel('Minutes')\n",
        "plt.ylabel('Drawdown (ft)')\n",
        "plt.title('Okawville')\n",
        "plt.show()"
      ],
      "execution_count": 10,
      "outputs": [
        {
          "output_type": "display_data",
          "data": {
            "image/png": "[encoded data removed]",
            "text/plain": [
              "<Figure size 432x288 with 1 Axes>"
            ]
          },
          "metadata": {
            "tags": []
          }
        }
      ]
    },
    {
      "cell_type": "code",
      "metadata": {
        "id": "qXzzCfwM9yU2",
        "colab_type": "code",
        "colab": {
          "base_uri": "https://localhost:8080/",
          "height": 51
        },
        "outputId": "7b38eab6-3a4b-442a-e0cf-d9445eda0fcd"
      },
      "source": [
        "# resume from here\n",
        "Q = 5.35 #ft^3/m\n",
        "r = 30 #ft\n",
        "\n",
        "h_change = log_line(100,popt[0],popt[1])-log_line(10,popt[0],popt[1])\n",
        "t0 = 10**-(popt[0]/popt[1])\n",
        "print(t0)\n",
        "\n",
        "\n",
        "T = 2.3*Q/(4*np.pi*h_change) #ft^2/m\n",
        "S = 2.25*T*t0/r**2 #unitless\n",
        "# do not print T or S beyond three sig figs\n",
        "# convert T to ft^2/d\n",
        "print('The Jacob Straight Line Method indicates that T is',round(T*60*24,-1),'ft^2/day and S is',round(S,4),'.')"
      ],
      "execution_count": 5,
      "outputs": [
        {
          "output_type": "stream",
          "text": [
            "3.0935208772043277\n",
            "The Jacob Straight Line Method indicates that T is 3060.0 ft^2/day and S is 0.0164 .\n"
          ],
          "name": "stdout"
        }
      ]
    },
    {
      "cell_type": "code",
      "metadata": {
        "id": "8_jjMeqj6gIe",
        "colab_type": "code",
        "colab": {}
      },
      "source": [
        ""
      ],
      "execution_count": 0,
      "outputs": []
    }
  ]
}