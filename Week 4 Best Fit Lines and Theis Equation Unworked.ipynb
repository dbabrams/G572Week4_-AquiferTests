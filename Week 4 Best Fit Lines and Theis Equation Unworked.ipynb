{
  "nbformat": 4,
  "nbformat_minor": 0,
  "metadata": {
    "kernelspec": {
      "display_name": "Python 3",
      "language": "python",
      "name": "python3"
    },
    "language_info": {
      "codemirror_mode": {
        "name": "ipython",
        "version": 3
      },
      "file_extension": ".py",
      "mimetype": "text/x-python",
      "name": "python",
      "nbconvert_exporter": "python",
      "pygments_lexer": "ipython3",
      "version": "3.7.4"
    },
    "colab": {
      "name": "Week 4 Best Fit Lines and Theis Equation.ipynb",
      "provenance": []
    }
  },
  "cells": [
    {
      "cell_type": "markdown",
      "metadata": {
        "id": "TPwxGZa69OwS",
        "colab_type": "text"
      },
      "source": [
        "# Week 4: Best Fit Lines and the Theis Solution"
      ]
    },
    {
      "cell_type": "markdown",
      "metadata": {
        "id": "7nfXoyUQ9OwU",
        "colab_type": "text"
      },
      "source": [
        "Today let's take a look at withdrawals from an industry in the East St. Louis area. These withdrawals include both groundwater and surface water. First, let's examine how pumpage has changed in the past few decades (1980 onward). Then, let's investigate if there are trends that we can use to extrapolate expected water demands (usage) out to 2050 for this region.\n",
        "\n",
        "After working with pumpage, let's take a quick look at the Theis Solution and how to code this up. You will be using this in Homework 4. "
      ]
    },
    {
      "cell_type": "markdown",
      "metadata": {
        "id": "dcUBouCT9OwV",
        "colab_type": "text"
      },
      "source": [
        "## Import Packages/Libraries"
      ]
    },
    {
      "cell_type": "code",
      "metadata": {
        "id": "dYUdsHzp9OwW",
        "colab_type": "code",
        "colab": {}
      },
      "source": [
        "# import packages\n",
        "import pandas as pd\n",
        "import matplotlib.pyplot as plt\n",
        "import scipy.optimize as spo\n",
        "import scipy.special as sps\n",
        "import math\n",
        "\n",
        "%matplotlib inline"
      ],
      "execution_count": 0,
      "outputs": []
    },
    {
      "cell_type": "markdown",
      "metadata": {
        "id": "6G5nfoTe9Owa",
        "colab_type": "text"
      },
      "source": [
        "## Import Demands for an industry in Madison County\n",
        "\n",
        "<ul>\n",
        "    <li>Surface Water (sw)</li>\n",
        "    <li>Groundwater (gw)</li>\n",
        "</ul>"
      ]
    },
    {
      "cell_type": "code",
      "metadata": {
        "id": "uBGQtc679Owa",
        "colab_type": "code",
        "colab": {},
        "outputId": "657725ea-3b4d-4636-842f-63e0b9253aff"
      },
      "source": [
        "gc_df = pd.read_excel('industry.xlsx',index_col=0)\n",
        "print(gc_df)"
      ],
      "execution_count": 0,
      "outputs": [
        {
          "output_type": "stream",
          "text": [
            "             gw         sw\n",
            "year                      \n",
            "1979   6.842298  18.980151\n",
            "1980   3.647433  21.507734\n",
            "1981   4.591923  16.563450\n",
            "1982   6.881588  15.475154\n",
            "1983   7.186311   9.884463\n",
            "1984  11.709788   9.571526\n",
            "1985   6.611910   9.497604\n",
            "1986   9.368925   9.497604\n",
            "1987   9.368925  14.902669\n",
            "1988   7.006434  17.785079\n",
            "1989   7.476523  18.413689\n",
            "1990   7.286516  19.837372\n",
            "1991   3.028063        NaN\n",
            "1995   4.996578        NaN\n",
            "1996   5.830108  18.891170\n",
            "1997   5.677755  16.692676\n",
            "1998   5.552361  15.225188\n",
            "1999   5.453799  11.258042\n",
            "2000   4.720055  14.827105\n",
            "2001   4.020808  12.527858\n",
            "2002   4.208077  12.168652\n",
            "2003   3.730322  12.284736\n",
            "2004   1.578645   9.817933\n",
            "2005   1.562218  11.490760\n",
            "2006   1.667551  11.285421\n",
            "2007   1.627652   6.811773\n",
            "2008   2.761780   4.919918\n",
            "2009   4.040977   8.183436\n",
            "2010   7.876747   7.570157\n",
            "2011   8.025975   6.699521\n",
            "2012   8.859953   7.433265\n",
            "2013  11.728783   9.107461\n",
            "2014   7.769610   8.038330\n",
            "2015   3.293415   8.691855\n",
            "2016   0.527310  10.433402\n",
            "2017   2.460780        NaN\n"
          ],
          "name": "stdout"
        }
      ]
    },
    {
      "cell_type": "markdown",
      "metadata": {
        "id": "aQcsmlKF9Owe",
        "colab_type": "text"
      },
      "source": [
        "## Plot industrial demands"
      ]
    },
    {
      "cell_type": "code",
      "metadata": {
        "id": "T7GiWvtd9Owf",
        "colab_type": "code",
        "colab": {},
        "outputId": "a031b135-061d-4adf-9a91-bd7c1a7ee559"
      },
      "source": [
        "gc_df.plot(style='o')\n",
        "plt.ylabel('Mgd')"
      ],
      "execution_count": 0,
      "outputs": [
        {
          "output_type": "execute_result",
          "data": {
            "text/plain": [
              "Text(0, 0.5, 'Mgd')"
            ]
          },
          "metadata": {
            "tags": []
          },
          "execution_count": 5
        },
        {
          "output_type": "display_data",
          "data": {
            "image/png": "[encoded data removed]",
            "text/plain": [
              "<Figure size 432x288 with 1 Axes>"
            ]
          },
          "metadata": {
            "tags": [],
            "needs_background": "light"
          }
        }
      ]
    },
    {
      "cell_type": "markdown",
      "metadata": {
        "id": "WNqAPYci9Owi",
        "colab_type": "text"
      },
      "source": [
        "## Define a linear function to create a best fit line"
      ]
    },
    {
      "cell_type": "markdown",
      "metadata": {
        "id": "jmThyrVh9Owj",
        "colab_type": "text"
      },
      "source": [
        "When defining a function, always use the following syntax:\n",
        "\n",
        "`def functionname(argument1,argument2,.....):`</br>\n",
        "&nbsp;&nbsp;&nbsp;&nbsp;&nbsp;&nbsp; `write code here`</br>\n",
        "&nbsp;&nbsp;&nbsp;&nbsp;&nbsp;&nbsp; `return output1, output2,.....`\n",
        "\n",
        "To call the function, write\n",
        "\n",
        "`output1, output2 = functionname(argument1,argument2)`"
      ]
    },
    {
      "cell_type": "code",
      "metadata": {
        "id": "w8ytOxFL9Owj",
        "colab_type": "code",
        "colab": {},
        "outputId": "50ffbf41-7997-4394-95db-e5b5a9cf5b0a"
      },
      "source": [
        "# define a function that defines our line\n",
        "def linear(time,m,b):\n",
        "    return m*time+b\n",
        "\n",
        "# code that returns the parameters m & b\n",
        "para, cova = spo.curve_fit(linear,gc_df.index,gc_df.gw,p0=[0.0000001,0.0000001])\n",
        "print(para)\n",
        "slope = para[0]\n",
        "yint = para[1]\n",
        "\n",
        "year = gc_df.index.to_series()\n",
        "fitline = linear(year,slope,yint)\n",
        "print(type(fitline))\n",
        "\n",
        "gc_df.gw.plot(style='o')\n",
        "fitline.plot()"
      ],
      "execution_count": 0,
      "outputs": [
        {
          "output_type": "stream",
          "text": [
            "[-7.63454373e-02  1.58097158e+02]\n",
            "<class 'pandas.core.series.Series'>\n"
          ],
          "name": "stdout"
        },
        {
          "output_type": "execute_result",
          "data": {
            "text/plain": [
              "<matplotlib.axes._subplots.AxesSubplot at 0x195cbe1d7c8>"
            ]
          },
          "metadata": {
            "tags": []
          },
          "execution_count": 6
        },
        {
          "output_type": "display_data",
          "data": {
            "image/png": "[encoded data removed]",
            "text/plain": [
              "<Figure size 432x288 with 1 Axes>"
            ]
          },
          "metadata": {
            "tags": [],
            "needs_background": "light"
          }
        }
      ]
    },
    {
      "cell_type": "markdown",
      "metadata": {
        "id": "gzzsfBIy9Owm",
        "colab_type": "text"
      },
      "source": [
        "## Linear trend to 2050?"
      ]
    },
    {
      "cell_type": "code",
      "metadata": {
        "id": "eMAE0iz_9Own",
        "colab_type": "code",
        "colab": {},
        "outputId": "1aaa2667-6002-43ec-d686-780713a7a491"
      },
      "source": [
        "linear(2050,slope,yint)"
      ],
      "execution_count": 0,
      "outputs": [
        {
          "output_type": "execute_result",
          "data": {
            "text/plain": [
              "1.5890116633247828"
            ]
          },
          "metadata": {
            "tags": []
          },
          "execution_count": 7
        }
      ]
    },
    {
      "cell_type": "markdown",
      "metadata": {
        "id": "T7DVTwfC9Owp",
        "colab_type": "text"
      },
      "source": [
        "### Theis solution\n",
        "\n",
        "Recall that the Theis solution is:\n",
        "\n",
        "<font size = 10>$s=\\frac{Q}{4\\pi T} W(\\frac{r^2S}{4Tt})$</font>\n",
        "\n",
        "where s is drawdown, Q is pumpage, T is transmissivity, r is distance from well, S is storage, and t is time the well has been on. The well function has many names, with the most formal mathematical name being the `exponential integral`. For the mathematicians out there, [here is more context on the exponential integral.](http://mathworld.wolfram.com/ExponentialIntegral.html). For our purposes, we don't have to work with the exponential integral any differently than we do a natural logarithm or sinusoidal function. We just have to know where it is located. It turns out it is in the SciPy library as a [special function](https://docs.scipy.org/doc/scipy/reference/special.html).\n",
        "\n",
        "Let's do an example problem related to the NE Illinois sandstone. Assume that we want to know how much drawdown a new well might have on a nearby well (500 ft away) after running continuously for 1 day? 1 week? 1 year? Assume the well pumps 133,000 $ft^3/day$, transmissivity is 1200 $ft^2/day$, $S_s$ is 2.6E-7 $\\frac{1}{ft}$, and aquifer thickness is 400 $ft$."
      ]
    },
    {
      "cell_type": "code",
      "metadata": {
        "id": "NZLS28679Owq",
        "colab_type": "code",
        "colab": {},
        "outputId": "9a19eb73-7714-4417-cbe1-2fb864cc3f6a"
      },
      "source": [
        "Q = -133000 #ft^3/d\n",
        "T = 1200 #ft^2/d\n",
        "S_s = 2.6*10**-7 #1/ft\n",
        "b = 400 #ft\n",
        "S = b*S_s\n",
        "r = 5000 #ft\n",
        "\n",
        "t = pd.Series(range(0,366))\n",
        "u = r**2*S/(4*T*t)\n",
        "\n",
        "s = Q/(4*math.pi*T)*sps.exp1(u)\n",
        "\n",
        "s.plot()\n",
        "plt.title('Theis Solution')\n",
        "plt.xlabel('Days')\n",
        "plt.ylabel('Drawdown (ft)')\n",
        "plt.show()"
      ],
      "execution_count": 0,
      "outputs": [
        {
          "output_type": "display_data",
          "data": {
            "image/png": "[encoded data removed]",
            "text/plain": [
              "<Figure size 432x288 with 1 Axes>"
            ]
          },
          "metadata": {
            "tags": [],
            "needs_background": "light"
          }
        }
      ]
    },
    {
      "cell_type": "code",
      "metadata": {
        "id": "dfU2vCQn9Owt",
        "colab_type": "code",
        "colab": {}
      },
      "source": [
        ""
      ],
      "execution_count": 0,
      "outputs": []
    }
  ]
}