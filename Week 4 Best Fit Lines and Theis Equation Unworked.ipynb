{
  "nbformat": 4,
  "nbformat_minor": 0,
  "metadata": {
    "kernelspec": {
      "display_name": "Python 3",
      "language": "python",
      "name": "python3"
    },
    "language_info": {
      "codemirror_mode": {
        "name": "ipython",
        "version": 3
      },
      "file_extension": ".py",
      "mimetype": "text/x-python",
      "name": "python",
      "nbconvert_exporter": "python",
      "pygments_lexer": "ipython3",
      "version": "3.7.4"
    },
    "colab": {
      "name": "Week 4 Best Fit Lines and Theis Equation.ipynb",
      "provenance": []
    }
  },
  "cells": [
    {
      "cell_type": "markdown",
      "metadata": {
        "id": "TPwxGZa69OwS",
        "colab_type": "text"
      },
      "source": [
        "# Week 4: Best Fit Lines and the Theis Solution"
      ]
    },
    {
      "cell_type": "markdown",
      "metadata": {
        "id": "7nfXoyUQ9OwU",
        "colab_type": "text"
      },
      "source": [
        "Today let's take a look at withdrawals from an industry in the East St. Louis area. These withdrawals include both groundwater and surface water. First, let's examine how pumpage has changed in the past few decades (1980 onward). Then, let's investigate if there are trends that we can use to extrapolate expected water demands (usage) out to 2050 for this region.\n",
        "\n",
        "After working with pumpage, let's take a quick look at the Theis Solution and how to code this up. You will be using this in Homework 4. "
      ]
    },
    {
      "cell_type": "markdown",
      "metadata": {
        "id": "dcUBouCT9OwV",
        "colab_type": "text"
      },
      "source": [
        "## Import Packages/Libraries"
      ]
    },
    {
      "cell_type": "code",
      "metadata": {
        "id": "dYUdsHzp9OwW",
        "colab_type": "code",
        "colab": {}
      },
      "source": [
        "# import packages\n",
        "import pandas as pd\n",
        "import matplotlib.pyplot as plt\n",
        "import scipy.optimize as spo\n",
        "import scipy.special as sps\n",
        "import math\n",
        "\n",
        "%matplotlib inline"
      ],
      "execution_count": 0,
      "outputs": []
    },
    {
      "cell_type": "markdown",
      "metadata": {
        "id": "6G5nfoTe9Owa",
        "colab_type": "text"
      },
      "source": [
        "## Import Demands for an industry in Madison County\n",
        "\n",
        "<ul>\n",
        "    <li>Surface Water (sw)</li>\n",
        "    <li>Groundwater (gw)</li>\n",
        "</ul>"
      ]
    },
    {
      "cell_type": "code",
      "metadata": {
        "id": "uBGQtc679Owa",
        "colab_type": "code",
        "colab": {}
      },
      "source": [
        ""
      ],
      "execution_count": 0,
      "outputs": []
    },
    {
      "cell_type": "markdown",
      "metadata": {
        "id": "aQcsmlKF9Owe",
        "colab_type": "text"
      },
      "source": [
        "## Plot industrial demands"
      ]
    },
    {
      "cell_type": "code",
      "metadata": {
        "id": "T7GiWvtd9Owf",
        "colab_type": "code",
        "colab": {}
      },
      "source": [
        ""
      ],
      "execution_count": 0,
      "outputs": []
    },
    {
      "cell_type": "markdown",
      "metadata": {
        "id": "WNqAPYci9Owi",
        "colab_type": "text"
      },
      "source": [
        "## Define a linear function to create a best fit line"
      ]
    },
    {
      "cell_type": "markdown",
      "metadata": {
        "id": "jmThyrVh9Owj",
        "colab_type": "text"
      },
      "source": [
        "When defining a function, always use the following syntax:\n",
        "\n",
        "`def functionname(argument1,argument2,.....):`</br>\n",
        "&nbsp;&nbsp;&nbsp;&nbsp;&nbsp;&nbsp; `write code here`</br>\n",
        "&nbsp;&nbsp;&nbsp;&nbsp;&nbsp;&nbsp; `return output1, output2,.....`\n",
        "\n",
        "To call the function, write\n",
        "\n",
        "`output1, output2 = functionname(argument1,argument2)`"
      ]
    },
    {
      "cell_type": "code",
      "metadata": {
        "id": "w8ytOxFL9Owj",
        "colab_type": "code",
        "colab": {}
      },
      "source": [
        ""
      ],
      "execution_count": 0,
      "outputs": []
    },
    {
      "cell_type": "markdown",
      "metadata": {
        "id": "gzzsfBIy9Owm",
        "colab_type": "text"
      },
      "source": [
        "## Linear trend to 2050?"
      ]
    },
    {
      "cell_type": "code",
      "metadata": {
        "id": "eMAE0iz_9Own",
        "colab_type": "code",
        "colab": {}
      },
      "source": [
        ""
      ],
      "execution_count": 0,
      "outputs": []
    },
    {
      "cell_type": "markdown",
      "metadata": {
        "id": "T7DVTwfC9Owp",
        "colab_type": "text"
      },
      "source": [
        "### Theis solution\n",
        "\n",
        "Recall that the Theis solution is:\n",
        "\n",
        "<font size = 10>$s=\\frac{Q}{4\\pi T} W(\\frac{r^2S}{4Tt})$</font>\n",
        "\n",
        "where s is drawdown, Q is pumpage, T is transmissivity, r is distance from well, S is storage, and t is time the well has been on. The well function has many names, with the most formal mathematical name being the `exponential integral`. For the mathematicians out there, [here is more context on the exponential integral.](http://mathworld.wolfram.com/ExponentialIntegral.html). For our purposes, we don't have to work with the exponential integral any differently than we do a natural logarithm or sinusoidal function. We just have to know where it is located. It turns out it is in the SciPy library as a [special function](https://docs.scipy.org/doc/scipy/reference/special.html).\n",
        "\n",
        "Let's do an example problem related to the NE Illinois sandstone. Assume that we want to know how much drawdown a new well might have on a nearby well (500 ft away) after running continuously for 1 day? 1 week? 1 year? Assume the well pumps 133,000 $ft^3/day$, transmissivity is 1200 $ft^2/day$, $S_s$ is 2.6E-7 $\\frac{1}{ft}$, and aquifer thickness is 400 $ft$."
      ]
    },
    {
      "cell_type": "code",
      "metadata": {
        "id": "NZLS28679Owq",
        "colab_type": "code",
        "colab": {}
      },
      "source": [
        ""
      ],
      "execution_count": 0,
      "outputs": []
    },
    {
      "cell_type": "code",
      "metadata": {
        "id": "dfU2vCQn9Owt",
        "colab_type": "code",
        "colab": {}
      },
      "source": [
        ""
      ],
      "execution_count": 0,
      "outputs": []
    }
  ]
}