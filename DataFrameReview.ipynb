{
  "nbformat": 4,
  "nbformat_minor": 0,
  "metadata": {
    "kernelspec": {
      "display_name": "Python 3",
      "language": "python",
      "name": "python3"
    },
    "language_info": {
      "codemirror_mode": {
        "name": "ipython",
        "version": 3
      },
      "file_extension": ".py",
      "mimetype": "text/x-python",
      "name": "python",
      "nbconvert_exporter": "python",
      "pygments_lexer": "ipython3",
      "version": "3.7.4"
    },
    "colab": {
      "name": "DataFrameReview.ipynb",
      "provenance": []
    }
  },
  "cells": [
    {
      "cell_type": "markdown",
      "metadata": {
        "id": "IjbmnSeM8sDb",
        "colab_type": "text"
      },
      "source": [
        "# Week 4a: Data Frame Review"
      ]
    },
    {
      "cell_type": "markdown",
      "metadata": {
        "id": "8nh_zi6F8sDe",
        "colab_type": "text"
      },
      "source": [
        "## Imported packages"
      ]
    },
    {
      "cell_type": "code",
      "metadata": {
        "id": "bqGNqczk8sDf",
        "colab_type": "code",
        "colab": {}
      },
      "source": [
        "import pandas as pd\n",
        "import numpy as np"
      ],
      "execution_count": 0,
      "outputs": []
    },
    {
      "cell_type": "markdown",
      "metadata": {
        "id": "3b4_wK9p8sDi",
        "colab_type": "text"
      },
      "source": [
        "## I. Data Frames\n",
        "Let's play around with data frames a bit for some practice. Let's work with the following simple dataframe, which is created using code pilfered (and slightly modified) from https://pbpython.com/pandas-list-dict.html."
      ]
    },
    {
      "cell_type": "code",
      "metadata": {
        "id": "15Q1QUAS8sDj",
        "colab_type": "code",
        "colab": {},
        "outputId": "66e22910-29bd-473d-b8c6-8f327e2640a3"
      },
      "source": [
        "# one way to manually create a data frame\n",
        "sales = [['account', ['Jones LLC', 'Alpha Co', 'Blue Inc']],\n",
        "         ['unneeded information',['fjkdlsa','hgiewa','hgidsla']],\n",
        "         ['Jan', [150, 200, 50]],\n",
        "         ['Feb', [200, 210, 90]],\n",
        "         ['Mar', [140, 215, 95]],\n",
        "         ]\n",
        "df = pd.DataFrame.from_dict(dict(sales))\n",
        "print(df)"
      ],
      "execution_count": 0,
      "outputs": [
        {
          "output_type": "stream",
          "text": [
            "     account unneeded information  Jan  Feb  Mar\n",
            "0  Jones LLC              fjkdlsa  150  200  140\n",
            "1   Alpha Co               hgiewa  200  210  215\n",
            "2   Blue Inc              hgidsla   50   90   95\n"
          ],
          "name": "stdout"
        }
      ]
    },
    {
      "cell_type": "markdown",
      "metadata": {
        "id": "V0xLVsR98sDm",
        "colab_type": "text"
      },
      "source": [
        "### Part A: Redefine the index\n",
        "This dataframe read in with a worthless index, let's make the account name the index instead."
      ]
    },
    {
      "cell_type": "code",
      "metadata": {
        "id": "d44LsqZC8sDn",
        "colab_type": "code",
        "colab": {},
        "outputId": "5872d24f-af95-4410-e8f5-9bed012ae84e"
      },
      "source": [
        "df_newind = df.set_index('account')\n",
        "print(df_newind)"
      ],
      "execution_count": 0,
      "outputs": [
        {
          "output_type": "stream",
          "text": [
            "          unneeded information  Jan  Feb  Mar\n",
            "account                                      \n",
            "Jones LLC              fjkdlsa  150  200  140\n",
            "Alpha Co                hgiewa  200  210  215\n",
            "Blue Inc               hgidsla   50   90   95\n"
          ],
          "name": "stdout"
        }
      ]
    },
    {
      "cell_type": "markdown",
      "metadata": {
        "id": "tsaP-0c_8sDp",
        "colab_type": "text"
      },
      "source": [
        "### Part B: Transpose a data frame\n",
        "Swap indices with column names in a data frame."
      ]
    },
    {
      "cell_type": "code",
      "metadata": {
        "id": "d_XxI0P58sDq",
        "colab_type": "code",
        "colab": {},
        "outputId": "5b9c3c12-b914-4cd6-8fbf-80504a1755bf"
      },
      "source": [
        "df_swap = df_newind.transpose()\n",
        "print(df_swap)"
      ],
      "execution_count": 0,
      "outputs": [
        {
          "output_type": "stream",
          "text": [
            "account              Jones LLC Alpha Co Blue Inc\n",
            "unneeded information   fjkdlsa   hgiewa  hgidsla\n",
            "Jan                        150      200       50\n",
            "Feb                        200      210       90\n",
            "Mar                        140      215       95\n"
          ],
          "name": "stdout"
        }
      ]
    },
    {
      "cell_type": "markdown",
      "metadata": {
        "id": "E2e7vHfB8sDt",
        "colab_type": "text"
      },
      "source": [
        "### Part C: Delete a row or column\n",
        "The row with the index 'unneeded information' is just that. Let's delete it."
      ]
    },
    {
      "cell_type": "code",
      "metadata": {
        "id": "NN1I9C8t8sDu",
        "colab_type": "code",
        "colab": {},
        "outputId": "a5316b1d-ea46-447a-890c-f607df08220e"
      },
      "source": [
        "# drop a row using df.drop(index label,0)\n",
        "# the 0 argument above tells Python you are dropping a row\n",
        "df_swapdrop = df_swap.drop('unneeded information',0)\n",
        "print(df_swapdrop)"
      ],
      "execution_count": 0,
      "outputs": [
        {
          "output_type": "stream",
          "text": [
            "account Jones LLC Alpha Co Blue Inc\n",
            "Jan           150      200       50\n",
            "Feb           200      210       90\n",
            "Mar           140      215       95\n"
          ],
          "name": "stdout"
        }
      ]
    },
    {
      "cell_type": "code",
      "metadata": {
        "id": "QbyEGpg78sDw",
        "colab_type": "code",
        "colab": {},
        "outputId": "9fc4e437-57b3-492b-c0ae-d4e0aa8baf2e"
      },
      "source": [
        "# note that we could have done the same thing before transposing, dropping the column instead\n",
        "# this is done by passing the column name and a second argument of 1, which tells Pyton you are dropping a column\n",
        "df_drop = df_newind.drop('unneeded information',1)\n",
        "print(df_drop)"
      ],
      "execution_count": 0,
      "outputs": [
        {
          "output_type": "stream",
          "text": [
            "           Jan  Feb  Mar\n",
            "account                 \n",
            "Jones LLC  150  200  140\n",
            "Alpha Co   200  210  215\n",
            "Blue Inc    50   90   95\n"
          ],
          "name": "stdout"
        }
      ]
    },
    {
      "cell_type": "markdown",
      "metadata": {
        "id": "b45PQnKL8sDz",
        "colab_type": "text"
      },
      "source": [
        "### Part D: Accessing data from a Data Frame\n",
        "You can access columns, rows, a specific value, or a range of values. Working with `df_swap`, defined in part B, try the following:"
      ]
    },
    {
      "cell_type": "code",
      "metadata": {
        "id": "fNtbTi1w8sD0",
        "colab_type": "code",
        "colab": {},
        "outputId": "8abed557-1f6f-4272-c6b1-709a7b97ce58"
      },
      "source": [
        "# access all column names\n",
        "df_swap.columns"
      ],
      "execution_count": 0,
      "outputs": [
        {
          "output_type": "execute_result",
          "data": {
            "text/plain": [
              "Index(['Jones LLC', 'Alpha Co', 'Blue Inc'], dtype='object', name='account')"
            ]
          },
          "metadata": {
            "tags": []
          },
          "execution_count": 19
        }
      ]
    },
    {
      "cell_type": "code",
      "metadata": {
        "id": "jsn10_fV8sD2",
        "colab_type": "code",
        "colab": {},
        "outputId": "39493da9-9646-45f7-d477-35ba33d1f418"
      },
      "source": [
        "# access all row names (indices)\n",
        "df_swap.index"
      ],
      "execution_count": 0,
      "outputs": [
        {
          "output_type": "execute_result",
          "data": {
            "text/plain": [
              "Index(['unneeded information', 'Jan', 'Feb', 'Mar'], dtype='object')"
            ]
          },
          "metadata": {
            "tags": []
          },
          "execution_count": 20
        }
      ]
    },
    {
      "cell_type": "code",
      "metadata": {
        "id": "ZocGnFCV8sD5",
        "colab_type": "code",
        "colab": {},
        "outputId": "27136686-d5df-4ace-dee9-44e5efbe55cf"
      },
      "source": [
        "# access Alpha Co earnings in February\n",
        "df_swap['Alpha Co']['Feb']\n",
        "\n",
        "# note the syntax is df[column][index], so the following commented code will not work\n",
        "#df_swap['Feb']['Alpha Co']"
      ],
      "execution_count": 0,
      "outputs": [
        {
          "output_type": "execute_result",
          "data": {
            "text/plain": [
              "210"
            ]
          },
          "metadata": {
            "tags": []
          },
          "execution_count": 21
        }
      ]
    },
    {
      "cell_type": "code",
      "metadata": {
        "id": "nDmcNwu18sD7",
        "colab_type": "code",
        "colab": {},
        "outputId": "d5f43f9a-7a2f-4338-95c0-d0cdd9b51ae7"
      },
      "source": [
        "# access all earnings from Jan through March for Blue Inc\n",
        "df_swap['Blue Inc']['Jan':'Mar']"
      ],
      "execution_count": 0,
      "outputs": [
        {
          "output_type": "execute_result",
          "data": {
            "text/plain": [
              "Jan    50\n",
              "Feb    90\n",
              "Mar    95\n",
              "Name: Blue Inc, dtype: object"
            ]
          },
          "metadata": {
            "tags": []
          },
          "execution_count": 22
        }
      ]
    }
  ]
}