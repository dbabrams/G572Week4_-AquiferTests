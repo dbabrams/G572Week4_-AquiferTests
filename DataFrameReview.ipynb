{
 "cells": [
  {
   "cell_type": "markdown",
   "metadata": {},
   "source": [
    "# Week 4a: Data Frame Review"
   ]
  },
  {
   "cell_type": "markdown",
   "metadata": {},
   "source": [
    "## Imported packages"
   ]
  },
  {
   "cell_type": "code",
   "execution_count": 13,
   "metadata": {},
   "outputs": [],
   "source": [
    "import pandas as pd\n",
    "import numpy as np"
   ]
  },
  {
   "cell_type": "markdown",
   "metadata": {},
   "source": [
    "## I. Data Frames\n",
    "We've worked mostly with data series, but data frames will also be important in the third part of your group project (pumping). Let's work with the following simple dataframe, which is created using code pilfered (and slightly modified) from https://pbpython.com/pandas-list-dict.html."
   ]
  },
  {
   "cell_type": "code",
   "execution_count": 29,
   "metadata": {},
   "outputs": [
    {
     "name": "stdout",
     "output_type": "stream",
     "text": [
      "     account unneeded information  Jan  Feb  Mar\n",
      "0  Jones LLC              fjkdlsa  150  200  140\n",
      "1   Alpha Co               hgiewa  200  210  215\n",
      "2   Blue Inc              hgidsla   50   90   95\n"
     ]
    }
   ],
   "source": [
    "# one way to manually create a data frame\n",
    "sales = [['account', ['Jones LLC', 'Alpha Co', 'Blue Inc']],\n",
    "         ['unneeded information',['fjkdlsa','hgiewa','hgidsla']],\n",
    "         ['Jan', [150, 200, 50]],\n",
    "         ['Feb', [200, 210, 90]],\n",
    "         ['Mar', [140, 215, 95]],\n",
    "         ]\n",
    "df = pd.DataFrame.from_dict(dict(sales))\n",
    "print(df)"
   ]
  },
  {
   "cell_type": "markdown",
   "metadata": {},
   "source": [
    "### Part A: Redefine the index\n",
    "This dataframe read in with a worthless index, let's make the account name the index instead."
   ]
  },
  {
   "cell_type": "code",
   "execution_count": 15,
   "metadata": {},
   "outputs": [
    {
     "name": "stdout",
     "output_type": "stream",
     "text": [
      "          unneeded information  Jan  Feb  Mar\n",
      "account                                      \n",
      "Jones LLC              fjkdlsa  150  200  140\n",
      "Alpha Co                hgiewa  200  210  215\n",
      "Blue Inc               hgidsla   50   90   95\n"
     ]
    }
   ],
   "source": [
    "df_newind = df.set_index('account')\n",
    "print(df_newind)"
   ]
  },
  {
   "cell_type": "markdown",
   "metadata": {},
   "source": [
    "### Part B: Transpose a data frame\n",
    "Swap indices with column names in a data frame."
   ]
  },
  {
   "cell_type": "code",
   "execution_count": 16,
   "metadata": {},
   "outputs": [
    {
     "name": "stdout",
     "output_type": "stream",
     "text": [
      "account              Jones LLC Alpha Co Blue Inc\n",
      "unneeded information   fjkdlsa   hgiewa  hgidsla\n",
      "Jan                        150      200       50\n",
      "Feb                        200      210       90\n",
      "Mar                        140      215       95\n"
     ]
    }
   ],
   "source": [
    "df_swap = df_newind.transpose()\n",
    "print(df_swap)"
   ]
  },
  {
   "cell_type": "markdown",
   "metadata": {},
   "source": [
    "### Part C: Delete a row or column\n",
    "The row with the index 'unneeded information' is just that. Let's delete it."
   ]
  },
  {
   "cell_type": "code",
   "execution_count": 17,
   "metadata": {},
   "outputs": [
    {
     "name": "stdout",
     "output_type": "stream",
     "text": [
      "account Jones LLC Alpha Co Blue Inc\n",
      "Jan           150      200       50\n",
      "Feb           200      210       90\n",
      "Mar           140      215       95\n"
     ]
    }
   ],
   "source": [
    "# drop a row using df.drop(index label,0)\n",
    "# the 0 argument above tells Python you are dropping a row\n",
    "df_swapdrop = df_swap.drop('unneeded information',0)\n",
    "print(df_swapdrop)"
   ]
  },
  {
   "cell_type": "code",
   "execution_count": 18,
   "metadata": {},
   "outputs": [
    {
     "name": "stdout",
     "output_type": "stream",
     "text": [
      "           Jan  Feb  Mar\n",
      "account                 \n",
      "Jones LLC  150  200  140\n",
      "Alpha Co   200  210  215\n",
      "Blue Inc    50   90   95\n"
     ]
    }
   ],
   "source": [
    "# note that we could have done the same thing before transposing, dropping the column instead\n",
    "# this is done by passing the column name and a second argument of 1, which tells Pyton you are dropping a column\n",
    "df_drop = df_newind.drop('unneeded information',1)\n",
    "print(df_drop)"
   ]
  },
  {
   "cell_type": "markdown",
   "metadata": {},
   "source": [
    "### Part D: Accessing data from a Data Frame\n",
    "You can access columns, rows, a specific value, or a range of values. Working with `df_swap`, defined in part B, try the following:"
   ]
  },
  {
   "cell_type": "code",
   "execution_count": 19,
   "metadata": {},
   "outputs": [
    {
     "data": {
      "text/plain": [
       "Index(['Jones LLC', 'Alpha Co', 'Blue Inc'], dtype='object', name='account')"
      ]
     },
     "execution_count": 19,
     "metadata": {},
     "output_type": "execute_result"
    }
   ],
   "source": [
    "# access all column names\n",
    "df_swap.columns"
   ]
  },
  {
   "cell_type": "code",
   "execution_count": 20,
   "metadata": {},
   "outputs": [
    {
     "data": {
      "text/plain": [
       "Index(['unneeded information', 'Jan', 'Feb', 'Mar'], dtype='object')"
      ]
     },
     "execution_count": 20,
     "metadata": {},
     "output_type": "execute_result"
    }
   ],
   "source": [
    "# access all row names (indices)\n",
    "df_swap.index"
   ]
  },
  {
   "cell_type": "code",
   "execution_count": 21,
   "metadata": {},
   "outputs": [
    {
     "data": {
      "text/plain": [
       "210"
      ]
     },
     "execution_count": 21,
     "metadata": {},
     "output_type": "execute_result"
    }
   ],
   "source": [
    "# access Alpha Co earnings in February\n",
    "df_swap['Alpha Co']['Feb']\n",
    "\n",
    "# note the syntax is df[column][index], so the following commented code will not work\n",
    "#df_swap['Feb']['Alpha Co']"
   ]
  },
  {
   "cell_type": "code",
   "execution_count": 22,
   "metadata": {},
   "outputs": [
    {
     "data": {
      "text/plain": [
       "Jan    50\n",
       "Feb    90\n",
       "Mar    95\n",
       "Name: Blue Inc, dtype: object"
      ]
     },
     "execution_count": 22,
     "metadata": {},
     "output_type": "execute_result"
    }
   ],
   "source": [
    "# access all earnings from Jan through March for Blue Inc\n",
    "df_swap['Blue Inc']['Jan':'Mar']"
   ]
  }
 ],
 "metadata": {
  "kernelspec": {
   "display_name": "Python 3",
   "language": "python",
   "name": "python3"
  },
  "language_info": {
   "codemirror_mode": {
    "name": "ipython",
    "version": 3
   },
   "file_extension": ".py",
   "mimetype": "text/x-python",
   "name": "python",
   "nbconvert_exporter": "python",
   "pygments_lexer": "ipython3",
   "version": "3.7.4"
  }
 },
 "nbformat": 4,
 "nbformat_minor": 1
}
